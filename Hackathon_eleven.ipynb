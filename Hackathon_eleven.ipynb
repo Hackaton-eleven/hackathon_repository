{
  "nbformat": 4,
  "nbformat_minor": 0,
  "metadata": {
    "colab": {
      "provenance": []
    },
    "kernelspec": {
      "name": "python3",
      "display_name": "Python 3"
    },
    "language_info": {
      "name": "python"
    }
  },
  "cells": [
    {
      "cell_type": "code",
      "execution_count": null,
      "metadata": {
        "id": "G2TZs307fRW0"
      },
      "outputs": [],
      "source": [
        "import torch\n",
        "\n",
        "USE_GPU = True\n",
        "dtype = torch.float32 # we will be using float throughout this tutorial\n",
        "device = torch.device('cuda') if (USE_GPU and torch.cuda.is_available()) else torch.device('cpu')"
      ]
    },
    {
      "cell_type": "code",
      "source": [
        "from matplotlib import pyplot as plt\n",
        "import torch\n",
        "import torch.nn as nn\n",
        "import torch.optim as optim\n",
        "from torch.utils.data import DataLoader\n",
        "import pathlib\n",
        "from torch.utils.data import sampler\n",
        "import torchvision.datasets as dset\n",
        "import torchvision.transforms as T\n",
        "import numpy as np"
      ],
      "metadata": {
        "id": "_bERnNbRf0hS"
      },
      "execution_count": null,
      "outputs": []
    },
    {
      "cell_type": "code",
      "source": [
        "import pandas as pd\n",
        "chemin_fichier_csv = 'chemin/vers/votre/fichier.csv'\n",
        "\n",
        "# Charger les données depuis le fichier CSV\n",
        "donnees = pd.read_csv(chemin_fichier_csv)\n",
        "\n",
        "# Afficher les données\n",
        "print(donnees)\n"
      ],
      "metadata": {
        "id": "AzivgBLog1PS"
      },
      "execution_count": null,
      "outputs": []
    }
  ]
}